{
 "cells": [
  {
   "cell_type": "code",
   "execution_count": 1,
   "metadata": {
    "collapsed": false
   },
   "outputs": [
    {
     "name": "stderr",
     "output_type": "stream",
     "text": [
      "Loading required package: sp\n",
      "rgdal: version: 1.2-18, (SVN revision 718)\n",
      " Geospatial Data Abstraction Library extensions to R successfully loaded\n",
      " Loaded GDAL runtime: GDAL 2.1.3, released 2017/20/01\n",
      " Path to GDAL shared files: /Library/Frameworks/R.framework/Versions/3.4/Resources/library/rgdal/gdal\n",
      " GDAL binary built with GEOS: FALSE \n",
      " Loaded PROJ.4 runtime: Rel. 4.9.3, 15 August 2016, [PJ_VERSION: 493]\n",
      " Path to PROJ.4 shared files: /Library/Frameworks/R.framework/Versions/3.4/Resources/library/rgdal/proj\n",
      " Linking to sp version: 1.2-7 \n",
      "Loading required package: latticeExtra\n",
      "Loading required package: RColorBrewer\n"
     ]
    }
   ],
   "source": [
    "library(ncdf4)\n",
    "library(lattice)\n",
    "library(rgdal)\n",
    "library(raster)\n",
    "library(rasterVis)\n",
    "library(latticeExtra)\n",
    "library(gridExtra)\n",
    "library(RColorBrewer)\n",
    "library(animation)"
   ]
  },
  {
   "cell_type": "code",
   "execution_count": 2,
   "metadata": {
    "collapsed": true
   },
   "outputs": [],
   "source": [
    "path <- \"/Users/dongmeichen/Documents/defense/data/\"\n",
    "years <- 1996:2015; nyr <- length(years)\n",
    "var <- \"winterTmin\"\n",
    "out <- \"/Users/dongmeichen/Documents/defense/figures/\""
   ]
  },
  {
   "cell_type": "code",
   "execution_count": 3,
   "metadata": {
    "collapsed": true
   },
   "outputs": [],
   "source": [
    "ncin <- nc_open(\"/Users/dongmeichen/Documents/beetle/ncfiles/na10km_v2.nc\")\n",
    "x <- ncvar_get(ncin, varid=\"x\"); nx <- length(x)\n",
    "y <- ncvar_get(ncin, varid=\"y\"); ny <- length(y)\n",
    "grid <- expand.grid(x=x, y=y)"
   ]
  },
  {
   "cell_type": "code",
   "execution_count": 4,
   "metadata": {
    "collapsed": false
   },
   "outputs": [
    {
     "name": "stdout",
     "output_type": "stream",
     "text": [
      "OGR data source with driver: ESRI Shapefile \n",
      "Source: \"/Users/dongmeichen/Documents/beetle/shp\", layer: \"na10km_can_prov\"\n",
      "with 13 features\n",
      "It has 2 fields\n",
      "OGR data source with driver: ESRI Shapefile \n",
      "Source: \"/Users/dongmeichen/Documents/beetle/shp\", layer: \"na10km_us_state\"\n",
      "with 51 features\n",
      "It has 2 fields\n",
      "OGR data source with driver: ESRI Shapefile \n",
      "Source: \"/Users/dongmeichen/Documents/beetle/shp\", layer: \"na10km_lrglakes\"\n",
      "with 24 features\n",
      "It has 2 fields\n"
     ]
    }
   ],
   "source": [
    "shppath <- \"/Users/dongmeichen/Documents/beetle/shp\"\n",
    "canada.prov <- readOGR(dsn = shppath, layer = \"na10km_can_prov\")\n",
    "us.states <- readOGR(dsn = shppath, layer = \"na10km_us_state\")\n",
    "crs <- proj4string(us.states)\n",
    "lrglakes <- readOGR(dsn = shppath, layer = \"na10km_lrglakes\")\n",
    "proj4string(lrglakes) <- crs"
   ]
  },
  {
   "cell_type": "code",
   "execution_count": 5,
   "metadata": {
    "collapsed": true
   },
   "outputs": [],
   "source": [
    "cutpts <- c(-55,-40,-30,-20,-15,-10,-5,0,5,15,30)"
   ]
  },
  {
   "cell_type": "code",
   "execution_count": 9,
   "metadata": {
    "collapsed": true
   },
   "outputs": [],
   "source": [
    "get.data <- function(var){\n",
    "  ncfile <- paste0(\"na10km_v2_\",var, \"_\",years[1],\".\",years[nyr],\".4d.nc\")\n",
    "  ncin <- nc_open(paste0(path, ncfile))\n",
    "  data <- ncvar_get(ncin,var)\n",
    "  fillvalue <- ncatt_get(ncin,var,\"_FillValue\")\n",
    "  data[data==fillvalue$value] <- NA\n",
    "  return(data)\n",
    "}"
   ]
  },
  {
   "cell_type": "code",
   "execution_count": 7,
   "metadata": {
    "collapsed": true
   },
   "outputs": [],
   "source": [
    "btlprs <- read.csv(\"/Users/dongmeichen/Documents/defense/data/beetle_presence_updated.csv\")"
   ]
  },
  {
   "cell_type": "code",
   "execution_count": 10,
   "metadata": {
    "collapsed": false
   },
   "outputs": [],
   "source": [
    "var_4d <- get.data(var)"
   ]
  },
  {
   "cell_type": "code",
   "execution_count": 11,
   "metadata": {
    "collapsed": true
   },
   "outputs": [],
   "source": [
    "i <- 1\n",
    "var_4d_slice <- var_4d[,,1,i]"
   ]
  },
  {
   "cell_type": "code",
   "execution_count": 20,
   "metadata": {
    "collapsed": false
   },
   "outputs": [
    {
     "name": "stderr",
     "output_type": "stream",
     "text": [
      "Warning message in points2grid(df):\n",
      "“grid has empty column/rows in dimension 1”"
     ]
    },
    {
     "data": {
      "text/plain": [
       "                         x        y\n",
       "cellcentre.offset -5730000 -4510000\n",
       "cellsize             10000    10000\n",
       "cells.dim             1074      900"
      ]
     },
     "metadata": {},
     "output_type": "display_data"
    },
    {
     "name": "stderr",
     "output_type": "stream",
     "text": [
      "Warning message in points2grid(points, tolerance, round):\n",
      "“grid has empty column/rows in dimension 1”"
     ]
    },
    {
     "data": {},
     "metadata": {},
     "output_type": "display_data"
    },
    {
     "data": {
      "image/png": "[encoded data removed]",
      "text/plain": [
       "plot without title"
      ]
     },
     "metadata": {},
     "output_type": "display_data"
    }
   ],
   "source": [
    "p <- levelplot(var_4d_slice ~ x * y, data=grid, at=cutpts, cuts=11, pretty=T, \n",
    "                col.regions=rev(brewer.pal(10,\"RdBu\")), xlim=c(-2050000,20000), ylim=c(-2000000,1600000),\n",
    "                par.settings = list(axis.line = list(col = \"transparent\")), aspect=\"iso\", \n",
    "                scales = list(draw = FALSE), margin=F, main=list(label=paste(var,years[i]), cex=1.5),\n",
    "                xlab=\"\",ylab=\"\")\n",
    "df <- btlprs[,c(\"x\",\"y\",paste0(\"prs_\",(years[i]+1)))]\n",
    "coordinates(df) <- c(\"x\",\"y\")\n",
    "points2grid(df)\n",
    "btl_pixels <- as(df, \"SpatialPixelsDataFrame\")\n",
    "names(btl_pixels) <- \"btlprs\"\n",
    "p <- p + latticeExtra::layer(sp.points(btl_pixels[btl_pixels$btlprs==1,], pch=19, cex=0.05, col='#525252', alpha=0.4))\n",
    "p"
   ]
  },
  {
   "cell_type": "code",
   "execution_count": 21,
   "metadata": {
    "collapsed": false
   },
   "outputs": [
    {
     "name": "stderr",
     "output_type": "stream",
     "text": [
      "Warning message in points2grid(df):\n",
      "“grid has empty column/rows in dimension 1”Warning message in points2grid(points, tolerance, round):\n",
      "“grid has empty column/rows in dimension 1”"
     ]
    },
    {
     "name": "stdout",
     "output_type": "stream",
     "text": [
      "[1] \"mapping winterTmin in 1996 is done!\"\n"
     ]
    },
    {
     "name": "stderr",
     "output_type": "stream",
     "text": [
      "Warning message in points2grid(df):\n",
      "“grid has empty column/rows in dimension 1”Warning message in points2grid(points, tolerance, round):\n",
      "“grid has empty column/rows in dimension 1”"
     ]
    },
    {
     "name": "stdout",
     "output_type": "stream",
     "text": [
      "[1] \"mapping winterTmin in 1997 is done!\"\n"
     ]
    },
    {
     "name": "stderr",
     "output_type": "stream",
     "text": [
      "Warning message in points2grid(df):\n",
      "“grid has empty column/rows in dimension 1”Warning message in points2grid(points, tolerance, round):\n",
      "“grid has empty column/rows in dimension 1”"
     ]
    },
    {
     "name": "stdout",
     "output_type": "stream",
     "text": [
      "[1] \"mapping winterTmin in 1998 is done!\"\n"
     ]
    },
    {
     "name": "stderr",
     "output_type": "stream",
     "text": [
      "Warning message in points2grid(df):\n",
      "“grid has empty column/rows in dimension 1”Warning message in points2grid(points, tolerance, round):\n",
      "“grid has empty column/rows in dimension 1”"
     ]
    },
    {
     "name": "stdout",
     "output_type": "stream",
     "text": [
      "[1] \"mapping winterTmin in 1999 is done!\"\n"
     ]
    },
    {
     "name": "stderr",
     "output_type": "stream",
     "text": [
      "Warning message in points2grid(df):\n",
      "“grid has empty column/rows in dimension 1”Warning message in points2grid(points, tolerance, round):\n",
      "“grid has empty column/rows in dimension 1”"
     ]
    },
    {
     "name": "stdout",
     "output_type": "stream",
     "text": [
      "[1] \"mapping winterTmin in 2000 is done!\"\n"
     ]
    },
    {
     "name": "stderr",
     "output_type": "stream",
     "text": [
      "Warning message in points2grid(df):\n",
      "“grid has empty column/rows in dimension 1”Warning message in points2grid(points, tolerance, round):\n",
      "“grid has empty column/rows in dimension 1”"
     ]
    },
    {
     "name": "stdout",
     "output_type": "stream",
     "text": [
      "[1] \"mapping winterTmin in 2001 is done!\"\n"
     ]
    },
    {
     "name": "stderr",
     "output_type": "stream",
     "text": [
      "Warning message in points2grid(df):\n",
      "“grid has empty column/rows in dimension 1”Warning message in points2grid(points, tolerance, round):\n",
      "“grid has empty column/rows in dimension 1”"
     ]
    },
    {
     "name": "stdout",
     "output_type": "stream",
     "text": [
      "[1] \"mapping winterTmin in 2002 is done!\"\n"
     ]
    },
    {
     "name": "stderr",
     "output_type": "stream",
     "text": [
      "Warning message in points2grid(df):\n",
      "“grid has empty column/rows in dimension 1”Warning message in points2grid(points, tolerance, round):\n",
      "“grid has empty column/rows in dimension 1”"
     ]
    },
    {
     "name": "stdout",
     "output_type": "stream",
     "text": [
      "[1] \"mapping winterTmin in 2003 is done!\"\n"
     ]
    },
    {
     "name": "stderr",
     "output_type": "stream",
     "text": [
      "Warning message in points2grid(df):\n",
      "“grid has empty column/rows in dimension 1”Warning message in points2grid(points, tolerance, round):\n",
      "“grid has empty column/rows in dimension 1”"
     ]
    },
    {
     "name": "stdout",
     "output_type": "stream",
     "text": [
      "[1] \"mapping winterTmin in 2004 is done!\"\n"
     ]
    },
    {
     "name": "stderr",
     "output_type": "stream",
     "text": [
      "Warning message in points2grid(df):\n",
      "“grid has empty column/rows in dimension 1”Warning message in points2grid(points, tolerance, round):\n",
      "“grid has empty column/rows in dimension 1”"
     ]
    },
    {
     "name": "stdout",
     "output_type": "stream",
     "text": [
      "[1] \"mapping winterTmin in 2005 is done!\"\n"
     ]
    },
    {
     "name": "stderr",
     "output_type": "stream",
     "text": [
      "Warning message in points2grid(df):\n",
      "“grid has empty column/rows in dimension 1”Warning message in points2grid(points, tolerance, round):\n",
      "“grid has empty column/rows in dimension 1”"
     ]
    },
    {
     "name": "stdout",
     "output_type": "stream",
     "text": [
      "[1] \"mapping winterTmin in 2006 is done!\"\n"
     ]
    },
    {
     "name": "stderr",
     "output_type": "stream",
     "text": [
      "Warning message in points2grid(df):\n",
      "“grid has empty column/rows in dimension 1”Warning message in points2grid(points, tolerance, round):\n",
      "“grid has empty column/rows in dimension 1”"
     ]
    },
    {
     "name": "stdout",
     "output_type": "stream",
     "text": [
      "[1] \"mapping winterTmin in 2007 is done!\"\n"
     ]
    },
    {
     "name": "stderr",
     "output_type": "stream",
     "text": [
      "Warning message in points2grid(df):\n",
      "“grid has empty column/rows in dimension 1”Warning message in points2grid(points, tolerance, round):\n",
      "“grid has empty column/rows in dimension 1”"
     ]
    },
    {
     "name": "stdout",
     "output_type": "stream",
     "text": [
      "[1] \"mapping winterTmin in 2008 is done!\"\n"
     ]
    },
    {
     "name": "stderr",
     "output_type": "stream",
     "text": [
      "Warning message in points2grid(df):\n",
      "“grid has empty column/rows in dimension 1”Warning message in points2grid(points, tolerance, round):\n",
      "“grid has empty column/rows in dimension 1”"
     ]
    },
    {
     "name": "stdout",
     "output_type": "stream",
     "text": [
      "[1] \"mapping winterTmin in 2009 is done!\"\n"
     ]
    },
    {
     "name": "stderr",
     "output_type": "stream",
     "text": [
      "Warning message in points2grid(df):\n",
      "“grid has empty column/rows in dimension 1”Warning message in points2grid(points, tolerance, round):\n",
      "“grid has empty column/rows in dimension 1”"
     ]
    },
    {
     "name": "stdout",
     "output_type": "stream",
     "text": [
      "[1] \"mapping winterTmin in 2010 is done!\"\n"
     ]
    },
    {
     "name": "stderr",
     "output_type": "stream",
     "text": [
      "Warning message in points2grid(df):\n",
      "“grid has empty column/rows in dimension 1”Warning message in points2grid(points, tolerance, round):\n",
      "“grid has empty column/rows in dimension 1”"
     ]
    },
    {
     "name": "stdout",
     "output_type": "stream",
     "text": [
      "[1] \"mapping winterTmin in 2011 is done!\"\n"
     ]
    },
    {
     "name": "stderr",
     "output_type": "stream",
     "text": [
      "Warning message in points2grid(df):\n",
      "“grid has empty column/rows in dimension 1”Warning message in points2grid(points, tolerance, round):\n",
      "“grid has empty column/rows in dimension 1”"
     ]
    },
    {
     "name": "stdout",
     "output_type": "stream",
     "text": [
      "[1] \"mapping winterTmin in 2012 is done!\"\n"
     ]
    },
    {
     "name": "stderr",
     "output_type": "stream",
     "text": [
      "Warning message in points2grid(df):\n",
      "“grid has empty column/rows in dimension 1”Warning message in points2grid(points, tolerance, round):\n",
      "“grid has empty column/rows in dimension 1”"
     ]
    },
    {
     "name": "stdout",
     "output_type": "stream",
     "text": [
      "[1] \"mapping winterTmin in 2013 is done!\"\n"
     ]
    },
    {
     "name": "stderr",
     "output_type": "stream",
     "text": [
      "Warning message in points2grid(df):\n",
      "“grid has empty column/rows in dimension 1”Warning message in points2grid(points, tolerance, round):\n",
      "“grid has empty column/rows in dimension 1”"
     ]
    },
    {
     "name": "stdout",
     "output_type": "stream",
     "text": [
      "[1] \"mapping winterTmin in 2014 is done!\"\n"
     ]
    },
    {
     "name": "stderr",
     "output_type": "stream",
     "text": [
      "Warning message in points2grid(df):\n",
      "“grid has empty column/rows in dimension 1”Warning message in points2grid(points, tolerance, round):\n",
      "“grid has empty column/rows in dimension 1”"
     ]
    },
    {
     "name": "stdout",
     "output_type": "stream",
     "text": [
      "[1] \"mapping winterTmin in 2015 is done!\"\n"
     ]
    }
   ],
   "source": [
    "for(i in 1:length(years)){\n",
    "    var_4d_slice <- var_4d[,,1,i]\n",
    "    p <- levelplot(var_4d_slice ~ x * y, data=grid, at=cutpts, cuts=11, pretty=T, \n",
    "                col.regions=rev(brewer.pal(10,\"RdBu\")), xlim=c(-2050000,20000), ylim=c(-2000000,1600000),\n",
    "                par.settings = list(axis.line = list(col = \"transparent\")), aspect=\"iso\", \n",
    "                scales = list(draw = FALSE), margin=F, main=list(label=paste(var,years[i]), cex=1.5),\n",
    "                xlab=\"\",ylab=\"\")\n",
    "    p <- p + latticeExtra::layer(sp.polygons(canada.prov, lwd=0.8, col='dimgray', alpha=0.3))\n",
    "    p <- p + latticeExtra::layer(sp.polygons(us.states, lwd=0.8, col='dimgray', alpha=0.3))\n",
    "    p <- p + latticeExtra::layer(sp.polygons(lrglakes, lwd=0.8, col='dimgray', fill='lightblue', alpha=0.3))\n",
    "    df <- btlprs[,c(\"x\",\"y\",paste0(\"prs_\",(years[i]+1)))]\n",
    "    coordinates(df) <- c(\"x\",\"y\")\n",
    "    points2grid(df)\n",
    "    btl_pixels <- as(df, \"SpatialPixelsDataFrame\")\n",
    "    names(btl_pixels) <- \"btlprs\"\n",
    "    p <- p + latticeExtra::layer(sp.points(btl_pixels[btl_pixels$btlprs==1,], pch=19, cex=0.05, col='#525252', alpha=0.4))\n",
    "    png(paste0(out, \"bioclimatic_map_\",var,\"_\",years[i],\".png\"), width=4, height=6, units=\"in\", res=300)\n",
    "    print(p)\n",
    "    dev.off()\n",
    "    print(paste(\"mapping\", var, \"in\", years[i], \"is done!\"))\n",
    "}"
   ]
  },
  {
   "cell_type": "code",
   "execution_count": 22,
   "metadata": {
    "collapsed": false
   },
   "outputs": [
    {
     "name": "stderr",
     "output_type": "stream",
     "text": [
      "Executing: \n",
      "convert -loop 0 -delay 100\n",
      "    /Users/dongmeichen/Documents/defense/figures/bioclimatic_map_winterTmin_*.png\n",
      "    'bioclimatic_map_winterTmin.gif'\n",
      "Output at: bioclimatic_map_winterTmin.gif\n"
     ]
    }
   ],
   "source": [
    "im.convert(paste0(out, \"bioclimatic_map_winterTmin_*.png\"),\n",
    "           output=paste0(out, \"bioclimatic_map_winterTmin.gif\"))"
   ]
  },
  {
   "cell_type": "code",
   "execution_count": null,
   "metadata": {
    "collapsed": true
   },
   "outputs": [],
   "source": []
  }
 ],
 "metadata": {
  "kernelspec": {
   "display_name": "R",
   "language": "R",
   "name": "ir"
  },
  "language_info": {
   "codemirror_mode": "r",
   "file_extension": ".r",
   "mimetype": "text/x-r-source",
   "name": "R",
   "pygments_lexer": "r",
   "version": "3.4.4"
  }
 },
 "nbformat": 4,
 "nbformat_minor": 2
}
